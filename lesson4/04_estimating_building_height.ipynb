{
 "cells": [
  {
   "cell_type": "markdown",
   "metadata": {},
   "source": [
    "<a target=\"_blank\" href=\"https://colab.research.google.com/github/taobrienlbl/advanced_earth_science_data_analysis/blob/fall_2025_iub/content/lessons/04_digging_further_into_data_wrangling/04_estimating_building_height.ipynb\">\n",
    "  <img src=\"https://colab.research.google.com/assets/colab-badge.svg\" alt=\"Open In Colab\"/>\n",
    "</a>\n",
    "\n",
    "# Exercise: Estimating Building Height with Pressure\n",
    "\n",
    "This exercise aims to build on your knowledge of the big-four data science libraries to use Kestrel atmospheric measurement devices to estimate the height difference between the ground floor and sixth floor of the Geology building.\n",
    "\n",
    "## Background\n",
    "\n",
    "Air pressure monotonically decreases with height in the atmosphere.  This is simply due to the fact that *air pressure is a measure of the weight of everything above*.  So higher up in the atmosphere there is less atmosphere (weight) above, and pressure decreases.\n",
    "\n",
    "One of the basic principles of fluid dynamics is that a *pressure gradient*--a change in pressure over some distance--exerts a net force on the fluid that, in the absence of other forces, would cause the fluid to move.  So why then does the atmosphere not flow away to space in response to this pressure gradient?\n",
    "\n",
    "To a very good approximation, the atmosphere is in *hydrostatic balance*, meaning that the vertical pressure gradient is balanced by the force of gravity on the air; gravity effectively nullifies the vertical pressure gradient force.  This leads to one of the most essential equations in atmospheric science:\n",
    "\n",
    "$$ \\frac{\\partial p}{\\partial z} = -\\rho g$$\n",
    "\n",
    "where $p$ is the atmospheric pressure, $z$ is height away from the surface, $\\rho$ is air density, and $g$ is the gravitational acceleration (we'll use $g \\approx 9.806~\\text{m s}^{-2}$ here).\n",
    "\n",
    "If we combine this with the ideal gas law (written in a form that is convenient for atmospheric gasses, where $R_d \\approx 287~\\text{J kg}^{-1}\\text{K}^{-1}$ represents a constant for air with the composition of Earth's atmosphere), we get a differential equation for pressure.\n",
    "\n",
    "$$\\text{Ideal gas law: }~p = \\rho R_d T \\to $$\n",
    "\n",
    "$$ \\frac{\\partial p}{\\partial z} = - \\frac{p g}{R_d T} $$\n",
    "\n",
    "We can approximate the derivatives in this equation using finite differences: $\\partial p/\\partial z \\to \\Delta p / \\Delta z$, where $\\Delta$ represents a (presumably small) difference between two pressure or height measurements.  We can then use this to solve for the change in height as a function of changes in pressure:\n",
    "\n",
    "$$ \\Delta z \\approx - \\frac{R_d T}{g} \\frac{\\Delta p}{p}$$\n",
    "\n",
    "## Estimating height\n",
    "\n",
    "Now imagine that we have a device that records pressure and temperature every second or so.  If you take that device and walk up a set of stairs, the recorded pressure will drop a bit for every second that you're ascending.  A pair of measurements taken at consecutive times can be used to estimate $\\Delta p$, and the average of the two measurements can be used to estimate $p$ and $T$ over tha same time frame.  These values can be plugged in to the above formula to estimate the change in height between the two measurements.  The sum of all the changes in height then gives an estimate of the total change in height; we will have numerically integrated the differential equation that comes from combining hydrostatic balance and the ideal gas law.\n",
    "\n",
    "### Instructions\n",
    "\n",
    "1. form groups of two or three\n",
    "1. acquaint yourself with the Kestrel measuring devices, and pair it to at least one of your phones using [Kestrel Link](https://kestrelinstruments.com/link-connectivity)\n",
    "1. ensure that you can record measurements and export them to csv\n",
    "1. take the kestrel device down to the ground floor of the Geology building; go to the lobby\n",
    "1. start recording\n",
    "1. either walk up the stairwell, or take the elevator, up to the 7th floor (you can only access this floor from the western stairwell)\n",
    "1. end recording\n",
    "1. export the data to a CSV file and add it to your course git folder (into a folder for lesson 04)\n",
    "1. estimate the difference in height between the two floors using the method above (*hint*: you should use `pandas`, and you should be able to make a new column for the calculation of $\\Delta p$ and $\\Delta z$ for each measurement, and then use the `.sum()` method)\n",
    "\n",
    "```{note}\n",
    "If for some reason you need a data file to work with, here is the one used in the solution: [WEATHER_-_2414781_Sep_15_2023_2_56_14_PM.csv](https://raw.githubusercontent.com/taobrienlbl/advanced_earth_science_data_analysis/refs/heads/fall_2025_iub/content/lessons/04_digging_further_into_data_wrangling/WEATHER_-_2414781_Sep_15_2023_2_56_14_PM.csv)\n",
    "```"
   ]
  },
  {
   "cell_type": "code",
   "execution_count": 33,
   "metadata": {},
   "outputs": [],
   "source": [
    "# import modules.\n",
    "import numpy as np\n",
    "import matplotlib.pyplot as plt\n",
    "import scipy\n",
    "import pandas as pd\n"
   ]
  },
  {
   "cell_type": "code",
   "execution_count": 37,
   "metadata": {},
   "outputs": [
    {
     "name": "stdout",
     "output_type": "stream",
     "text": [
      "[-10.   0. -20.  20. -20.   0. -10. -10.   0.   0. -10.   0. -10. -10.\n",
      " -10.   0. -10.   0.  10. -10. -20.   0.   0. -10. -10.   0.   0. -10.\n",
      "   0.   0. -10. -10. -20.   0.   0.   0. -10.   0.   0.  10. -30.  10.\n",
      "   0. -20.  10. -40.   0.  10.  20. -20. -20.   0. -10.  10. -10.]\n",
      "sum of delta pressure: -280.0\n",
      "[294.75 294.75 294.85 294.65 294.55 294.35 294.35 294.35 294.25 294.15\n",
      " 294.05 294.05 293.95 293.85 293.85 293.85 293.75 293.75 293.75 293.75\n",
      " 293.75 293.75 293.75 293.85 293.85 293.85 293.85 293.85 293.95 293.95\n",
      " 293.95 293.95 294.05 294.15 294.15 294.25 294.25 294.35 294.35 294.35\n",
      " 294.25 294.35 294.35 294.35 294.35 294.35 294.45 294.45 294.45 294.45\n",
      " 294.55 294.55 294.65 294.85 295.05 295.25]\n"
     ]
    }
   ],
   "source": [
    "\"\"\"Read the data and sort them, get the pressure data as a column vector.\"\"\"\n",
    "\n",
    "# read the data from csv file named \"kestrel_data.csv\". The pressure data is in the range is D5:D60\n",
    "data = pd.read_csv(\"kestrel_data.csv\")\n",
    "\n",
    "# get the column 3 as a numpy array\n",
    "pressure = data.iloc[3:60, 3].to_numpy()\n",
    "\n",
    "# convert the pressure data to float\n",
    "pressure = pressure.astype(float)\n",
    "\n",
    "# transform the pressure data to pascal, it was in mb\n",
    "pressure = pressure * 100\n",
    "\n",
    "# calculate the delta pressure, which is the difference between the cell and the cell next to it, use pandas diff function\n",
    "df = pd.Series(pressure).diff().to_numpy()\n",
    "# remove the first element which is nan\n",
    "df = df[1:] \n",
    "delta_pressure = df\n",
    "# see the data\n",
    "print(delta_pressure)\n",
    "\n",
    "# sum the delta pressure\n",
    "sum_delta_pressure = np.sum(delta_pressure)\n",
    "print(\"sum of delta pressure:\", sum_delta_pressure)\n",
    "\n",
    "# get the first column as a numpy array, which is the temperature data\n",
    "temperature = data.iloc[3:60, 1].to_numpy()\n",
    "\n",
    "# convert the temperature data to float\n",
    "temperature = temperature.astype(float)\n",
    "\n",
    "# convert the temperature data to kelvin, is was in celsius\n",
    "temperature = temperature + 273.15\n",
    "\n",
    "# see the data\n",
    "print(temperature)"
   ]
  },
  {
   "cell_type": "code",
   "execution_count": 39,
   "metadata": {},
   "outputs": [
    {
     "name": "stdout",
     "output_type": "stream",
     "text": [
      "The estimated building height is:  24.391378319591862 m\n"
     ]
    }
   ],
   "source": [
    "\"Convert the delta prssure to delta height\"\n",
    "\n",
    "# define functions\n",
    "g = 9.806 # m/s^2 # gravitational acceleration\n",
    "R_d = 287.05 # J/(kg*K) # specific gas constant for dry air\n",
    "\n",
    "# calculate delta height using the formula, store the result in a column vector\n",
    "delta_height = np.zeros(len(delta_pressure))\n",
    "for i in range(len(delta_pressure)):\n",
    "    delta_height[i] = - (R_d * temperature[i]) / g * (delta_pressure[i]) / pressure[i]\n",
    "\n",
    "# sum the delta height to get the total height\n",
    "total_height = np.sum(delta_height)\n",
    "print(\"The estimated building height is: \", total_height, \"m\")"
   ]
  },
  {
   "cell_type": "code",
   "execution_count": null,
   "metadata": {},
   "outputs": [],
   "source": []
  }
 ],
 "metadata": {
  "kernelspec": {
   "display_name": "big_four",
   "language": "python",
   "name": "python3"
  },
  "language_info": {
   "codemirror_mode": {
    "name": "ipython",
    "version": 3
   },
   "file_extension": ".py",
   "mimetype": "text/x-python",
   "name": "python",
   "nbconvert_exporter": "python",
   "pygments_lexer": "ipython3",
   "version": "3.12.11"
  },
  "orig_nbformat": 4
 },
 "nbformat": 4,
 "nbformat_minor": 2
}
